{
 "cells": [
  {
   "cell_type": "code",
   "execution_count": 5,
   "id": "277cd17c-b2a9-4ca0-8046-f07eef1dae7c",
   "metadata": {},
   "outputs": [],
   "source": [
    "# セル 1: 必要なライブラリ読み込み\n",
    "import os\n",
    "import cv2\n",
    "import numpy as np\n",
    "import torch\n",
    "import matplotlib.pyplot as plt\n",
    "from datetime import datetime\n",
    "\n",
    "from segment_anything import sam_model_registry, SamPredictor\n"
   ]
  },
  {
   "cell_type": "code",
   "execution_count": 7,
   "id": "93a472ff-753f-47d2-a50a-645c5eae56b4",
   "metadata": {},
   "outputs": [
    {
     "name": "stderr",
     "output_type": "stream",
     "text": [
      "c:\\aitools\\segment-anything\\segment_anything\\build_sam.py:105: FutureWarning: You are using `torch.load` with `weights_only=False` (the current default value), which uses the default pickle module implicitly. It is possible to construct malicious pickle data which will execute arbitrary code during unpickling (See https://github.com/pytorch/pytorch/blob/main/SECURITY.md#untrusted-models for more details). In a future release, the default value for `weights_only` will be flipped to `True`. This limits the functions that could be executed during unpickling. Arbitrary objects will no longer be allowed to be loaded via this mode unless they are explicitly allowlisted by the user via `torch.serialization.add_safe_globals`. We recommend you start setting `weights_only=True` for any use case where you don't have full control of the loaded file. Please open an issue on GitHub for any issues related to this experimental feature.\n",
      "  state_dict = torch.load(f)\n"
     ]
    }
   ],
   "source": [
    "# セル 2: モデル読み込みと初期設定\n",
    "sam_checkpoint = \"../sam_vit_h_4b8939.pth\"\n",
    "model_type = \"vit_h\"\n",
    "device = \"cuda\" if torch.cuda.is_available() else \"cpu\"\n",
    "\n",
    "sam = sam_model_registry[model_type](checkpoint=sam_checkpoint)\n",
    "sam.to(device=device)\n",
    "predictor = SamPredictor(sam)\n"
   ]
  },
  {
   "cell_type": "code",
   "execution_count": 9,
   "id": "8dd68c1c-71aa-4503-984c-bbb520a59d1f",
   "metadata": {},
   "outputs": [],
   "source": [
    "# セル 3: 画像読み込み\n",
    "image_path = \"images/img004.jpg\"\n",
    "image = cv2.imread(image_path)\n",
    "if image is None:\n",
    "    raise FileNotFoundError(f\"Image not found at path: {image_path}\")\n",
    "image = cv2.cvtColor(image, cv2.COLOR_BGR2RGB)\n",
    "predictor.set_image(image)\n"
   ]
  },
  {
   "cell_type": "code",
   "execution_count": 10,
   "id": "6a64b0cd-cc6a-4e4f-99c4-5d1a7f67958a",
   "metadata": {},
   "outputs": [],
   "source": [
    "# セル 4: クリックで座標取得\n",
    "%matplotlib tk\n",
    "plt.imshow(image)\n",
    "plt.title(\"Click a point (approx. center of target), then close the window.\")\n",
    "points = plt.ginput(1)\n",
    "plt.close()\n",
    "\n",
    "input_point = np.array(points, dtype=np.int32)\n",
    "input_label = np.array([1])"
   ]
  },
  {
   "cell_type": "code",
   "execution_count": 11,
   "id": "f77deeeb-3306-4b81-af9c-dd41ff7d95ca",
   "metadata": {},
   "outputs": [],
   "source": [
    "# セル 5: バウンディングボックスの選択\n",
    "plt.imshow(image)\n",
    "plt.title(\"Click top-left and bottom-right corners\")\n",
    "box_points = plt.ginput(2)\n",
    "plt.close()\n",
    "\n",
    "x1, y1 = map(int, box_points[0])\n",
    "x2, y2 = map(int, box_points[1])\n",
    "input_box = np.array([x1, y1, x2, y2])"
   ]
  },
  {
   "cell_type": "code",
   "execution_count": 12,
   "id": "239a67c7-d8f9-47e4-9a39-85c06250aa37",
   "metadata": {},
   "outputs": [],
   "source": [
    "# セル 6: マスク生成\n",
    "masks, scores, logits = predictor.predict(\n",
    "    point_coords=input_point,\n",
    "    point_labels=input_label,\n",
    "    box=input_box[None, :],\n",
    "    multimask_output=True\n",
    ")"
   ]
  },
  {
   "cell_type": "code",
   "execution_count": 21,
   "id": "ac0d2d50-66ac-41eb-be0e-8d304b64cfeb",
   "metadata": {},
   "outputs": [],
   "source": [
    "# セル 7: 候補マスク表示\n",
    "for i in range(len(masks)):\n",
    "    plt.figure(figsize=(8, 8))\n",
    "    plt.imshow(image)\n",
    "    plt.imshow(masks[i], alpha=0.5)\n",
    "    plt.title(f\"Mask Candidate {i}\")\n",
    "    plt.axis(\"off\")\n",
    "    plt.show()\n"
   ]
  },
  {
   "cell_type": "code",
   "execution_count": 24,
   "id": "751056b5-db43-4212-9849-342ee7f45c02",
   "metadata": {},
   "outputs": [
    {
     "name": "stdout",
     "output_type": "stream",
     "text": [
      "候補マスクの数: 3\n"
     ]
    },
    {
     "name": "stdin",
     "output_type": "stream",
     "text": [
      "0〜2 の中から最良のマスク番号を選んでください:  1\n"
     ]
    }
   ],
   "source": [
    "# セル 8: 最良マスクの選択（ユーザーに番号入力を促す）\n",
    "\n",
    "# 総マスク数を表示\n",
    "print(f\"候補マスクの数: {len(masks)}\")\n",
    "\n",
    "# 入力を受け付けてインデックス化\n",
    "while True:\n",
    "    try:\n",
    "        idx = int(input(f\"0〜{len(masks)-1} の中から最良のマスク番号を選んでください: \"))\n",
    "        if 0 <= idx < len(masks):\n",
    "            best_mask_index = idx\n",
    "            break\n",
    "        else:\n",
    "            print(\"範囲外の数値です。もう一度入力してください。\")\n",
    "    except ValueError:\n",
    "        print(\"数値を入力してください。\")\n",
    "\n",
    "# マスク適用\n",
    "masked_image = image.copy()\n",
    "masked_image[~masks[best_mask_index]] = 0\n",
    "\n",
    "plt.figure(figsize=(10, 10))\n",
    "plt.imshow(masked_image)\n",
    "plt.title(\"Final extracted character\")\n",
    "plt.axis(\"off\")\n",
    "plt.show()\n"
   ]
  },
  {
   "cell_type": "code",
   "execution_count": 23,
   "id": "95a1b381-827e-4b96-a715-9a1b56f65b42",
   "metadata": {},
   "outputs": [
    {
     "name": "stdout",
     "output_type": "stream",
     "text": [
      "Saved to: masked_images\\img004.jpg\n"
     ]
    }
   ],
   "source": [
    "# セル 9: 保存処理（元画像と同名、出力先は notebooks/masked_images/）\n",
    "\n",
    "# 出力ディレクトリ\n",
    "output_dir = \"masked_images\"\n",
    "os.makedirs(output_dir, exist_ok=True)  # フォルダがなければ作成\n",
    "\n",
    "# 元画像と同名のファイル名（拡張子は .jpg 固定）\n",
    "filename = os.path.splitext(os.path.basename(image_path))[0]\n",
    "output_filename = os.path.join(output_dir, f\"{filename}.jpg\")\n",
    "\n",
    "# 保存処理\n",
    "cv2.imwrite(output_filename, cv2.cvtColor(masked_image, cv2.COLOR_RGB2BGR))\n",
    "print(\"Saved to:\", output_filename)\n"
   ]
  },
  {
   "cell_type": "code",
   "execution_count": null,
   "id": "42174ee4-7cf1-449b-a804-0f638cbc2592",
   "metadata": {},
   "outputs": [],
   "source": []
  }
 ],
 "metadata": {
  "kernelspec": {
   "display_name": "Python 3 (ipykernel)",
   "language": "python",
   "name": "python3"
  },
  "language_info": {
   "codemirror_mode": {
    "name": "ipython",
    "version": 3
   },
   "file_extension": ".py",
   "mimetype": "text/x-python",
   "name": "python",
   "nbconvert_exporter": "python",
   "pygments_lexer": "ipython3",
   "version": "3.10.9"
  }
 },
 "nbformat": 4,
 "nbformat_minor": 5
}
